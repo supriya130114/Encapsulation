{
  "nbformat": 4,
  "nbformat_minor": 0,
  "metadata": {
    "colab": {
      "name": "encapsulation.ipynb",
      "provenance": [],
      "authorship_tag": "ABX9TyO/UfMNAXcwaIHOOsA9F9KA",
      "include_colab_link": true
    },
    "kernelspec": {
      "name": "python3",
      "display_name": "Python 3"
    },
    "language_info": {
      "name": "python"
    }
  },
  "cells": [
    {
      "cell_type": "markdown",
      "metadata": {
        "id": "view-in-github",
        "colab_type": "text"
      },
      "source": [
        "<a href=\"https://colab.research.google.com/github/supriya130114/Encapsulation/blob/main/encapsulation.ipynb\" target=\"_parent\"><img src=\"https://colab.research.google.com/assets/colab-badge.svg\" alt=\"Open In Colab\"/></a>"
      ]
    },
    {
      "cell_type": "code",
      "execution_count": 2,
      "metadata": {
        "colab": {
          "base_uri": "https://localhost:8080/"
        },
        "id": "2Uz0u-hApI4r",
        "outputId": "5d0896eb-e901-416d-f442-f285cd009db5"
      },
      "outputs": [
        {
          "output_type": "stream",
          "name": "stdout",
          "text": [
            "My name is:Supriya \n",
            "My Age is:18\n",
            "I work in this company:360 digi tmg \n",
            "My company location is:Bangaluru\n",
            "I use to live in this place:Bangaluru\n"
          ]
        }
      ],
      "source": [
        "class User:\n",
        "\n",
        "    def __init__(self,name,age):\n",
        "\n",
        "        self.name=name\n",
        "\n",
        "        self.age=age\n",
        "       \n",
        "    def show(self):\n",
        "                # accessing public data member\n",
        "                print('My name is:'+self.name,'\\nMy Age is:'+str(self.age))\n",
        "\n",
        "\n",
        "    \n",
        "class Company:\n",
        "\n",
        "    def __init__(self,company_name,company_location):\n",
        "\n",
        "        self.company_name=company_name\n",
        "\n",
        "        self.company_location=company_location\n",
        "        \n",
        "    def work(self):\n",
        "               print('I work in this company:'+self.company_name,'\\nMy company location is:'+self.company_location)\n",
        "\n",
        "\n",
        "  \n",
        "class Place:\n",
        "\n",
        "    def __init__(self,place_of_living):\n",
        "\n",
        "        self.place_of_living=place_of_living\n",
        "        \n",
        "    def Place(self):\n",
        "      print('I use to live in this place:'+self.place_of_living)\n",
        "\n",
        "\n",
        "\n",
        "name=User('Supriya',18)\n",
        "\n",
        "company=Company('360 digi tmg','Bangaluru')\n",
        "\n",
        "place=Place('Bangaluru')\n",
        "\n",
        "# calling public method of the class\n",
        "a=name.show()\n",
        "b=company.work()\n",
        "c=place.Place()\n",
        "\n",
        "\n",
        "#accessing directly from outside\n",
        "#d=(name.show(),company.work(),place.Place())\n",
        "\n"
      ]
    }
  ]
}